{
 "cells": [
  {
   "cell_type": "markdown",
   "metadata": {},
   "source": [
    "### Generating training data for multi-label text classification model using Faker & self-made utilities\n",
    "In this notebook, we're going to ingest the sample input data provided by BDO and use it to manually generate a larger dataset with the same parameters. \\\n",
    "This example will make use of the 'generator' and 'utils' modules to create a pandas dataframe of test data."
   ]
  },
  {
   "cell_type": "markdown",
   "metadata": {},
   "source": [
    "#### Setup Environment\n",
    "1. Configure the `autoreload` extension for the current Notebook. This allows you to automatically reload modules that have been previously imported or loaded.\n",
    "2. We install and import libraries which we'll use: Pandas and openpyxl\n"
   ]
  },
  {
   "cell_type": "code",
   "execution_count": 5,
   "metadata": {},
   "outputs": [
    {
     "name": "stdout",
     "output_type": "stream",
     "text": [
      "The autoreload extension is already loaded. To reload it, use:\n",
      "  %reload_ext autoreload\n"
     ]
    }
   ],
   "source": [
    "%load_ext autoreload\n",
    "%autoreload 2"
   ]
  },
  {
   "cell_type": "code",
   "execution_count": 6,
   "metadata": {},
   "outputs": [],
   "source": [
    "import pandas as pd\n",
    "import generator\n",
    "from typing import Callable"
   ]
  },
  {
   "cell_type": "markdown",
   "metadata": {},
   "source": [
    "\n",
    "#### Load dataset\n",
    "Load the sample data into pandas and check the data type of each column. The types gives an indication of the types of variables to generate for test data."
   ]
  },
  {
   "cell_type": "code",
   "execution_count": 7,
   "metadata": {},
   "outputs": [
    {
     "data": {
      "text/plain": [
       "Factuurnr.                            int64\n",
       "Naam                                 object\n",
       "Deb.nr.                               int64\n",
       "Omschrijving factuur                 object\n",
       "Boekstuk                     datetime64[ns]\n",
       "Vervalt                      datetime64[ns]\n",
       "Factuur                             float64\n",
       "Saldo                               float64\n",
       "Factuurreferentie                   float64\n",
       "Aanmaningen                           int64\n",
       "Vervaldagen                           int64\n",
       "Factuur Gbl.                          int64\n",
       "Aut. bet./inc.                        int64\n",
       "IBAN-nr.                            float64\n",
       "Incassomachtiging vereist             int64\n",
       "Dossier                               int64\n",
       "Betaaltermijnen                       int64\n",
       "Betaalwijze                         float64\n",
       "Factuurstatus                        object\n",
       "dtype: object"
      ]
     },
     "execution_count": 7,
     "metadata": {},
     "output_type": "execute_result"
    }
   ],
   "source": [
    "path = './sample_data/sample_input.xlsx'\n",
    "sample_df = pd.read_excel(path)\n",
    "sample_df.dtypes"
   ]
  },
  {
   "cell_type": "markdown",
   "metadata": {},
   "source": [
    "#### Prepare Values and Structure for generating test data\n",
    "Following the dtypes structure output above we can go ahead and: \n",
    "1. Define how many rows we would like our sample dataset to have. \n",
    "2. Use it as input for a utility function designed to prepare a list of values by repeatedly calling a specified function `NUM_ROWS` number of times. \n",
    "3. This fits with the pattern below of writing a dictionary wherein the key represents a column name and the value is a function that uses the Faker library to generate a given subset of the data. For more context on the latter please visit the `generator.py`"
   ]
  },
  {
   "cell_type": "code",
   "execution_count": 8,
   "metadata": {},
   "outputs": [],
   "source": [
    "NUM_ROWS = 100\n",
    "\n",
    "def prepare_values(function: Callable, num_prepared: int = NUM_ROWS) -> list:\n",
    "    return [function() for _ in range(num_prepared)]"
   ]
  },
  {
   "cell_type": "code",
   "execution_count": 10,
   "metadata": {},
   "outputs": [],
   "source": [
    "table_dict = {\n",
    "    \"Factuurnr.\": generator.factuurnummer,\n",
    "    \"Naam\": generator.name,\n",
    "    \"Deb.nr.\": generator.debnummer, \n",
    "    'Omschrijving factuur': generator.omschrijving, \n",
    "    'Boekstuk': generator.boekstuk,\n",
    "    'Vervalt': generator.vervalt, \n",
    "    'Factuur': generator.factuur,\n",
    "    'Saldo': generator.factuur, \n",
    "    'Factuurreferentie': generator.debnummer, \n",
    "    'Aanmaningen': generator.debnummer,\n",
    "    'Vervaldagen': generator.debnummer, \n",
    "    'Factuur Gbl.': generator.debnummer, \n",
    "    'Aut. bet./inc.': generator.debnummer, \n",
    "    'IBAN-nr.': generator.iban,\n",
    "    'Incassomachtiging vereist': generator.debnummer, \n",
    "    'Dossier': generator.debnummer, \n",
    "    'Betaaltermijnen': generator.debnummer, \n",
    "    'Betaalwijze': generator.debnummer,  \n",
    "    'Factuurstatus': generator.factuurstatus,\n",
    "}\n",
    "\n",
    "columns = list(table_dict.keys())\n",
    "df = pd.DataFrame(columns=columns)"
   ]
  },
  {
   "cell_type": "code",
   "execution_count": 11,
   "metadata": {},
   "outputs": [],
   "source": [
    "for key, function in table_dict.items():\n",
    "    df[key] = prepare_values(function)"
   ]
  },
  {
   "cell_type": "code",
   "execution_count": 14,
   "metadata": {},
   "outputs": [],
   "source": [
    "gen_path = './generated_data/gen_data_v2.csv'\n",
    "df.to_csv(gen_path, index=False)"
   ]
  }
 ],
 "metadata": {
  "kernelspec": {
   "display_name": "env",
   "language": "python",
   "name": "python3"
  },
  "language_info": {
   "codemirror_mode": {
    "name": "ipython",
    "version": 3
   },
   "file_extension": ".py",
   "mimetype": "text/x-python",
   "name": "python",
   "nbconvert_exporter": "python",
   "pygments_lexer": "ipython3",
   "version": "3.11.0"
  }
 },
 "nbformat": 4,
 "nbformat_minor": 2
}
