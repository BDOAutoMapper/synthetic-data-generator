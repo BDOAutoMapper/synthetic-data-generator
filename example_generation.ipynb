{
 "cells": [
  {
   "cell_type": "code",
   "execution_count": 1,
   "metadata": {},
   "outputs": [],
   "source": [
    "%load_ext autoreload\n",
    "%autoreload 2"
   ]
  },
  {
   "cell_type": "markdown",
   "metadata": {},
   "source": [
    "This is an example of how to use the 'generator' and 'utils' modules to create a pandas dataframe of test data."
   ]
  },
  {
   "cell_type": "code",
   "execution_count": 2,
   "metadata": {},
   "outputs": [],
   "source": [
    "import pandas as pd\n",
    "import generator\n",
    "from typing import Callable"
   ]
  },
  {
   "cell_type": "markdown",
   "metadata": {},
   "source": [
    "Load the sample data into pandas and check the data type of each column. The types gives an indication of the types of variables to generate for test data."
   ]
  },
  {
   "cell_type": "code",
   "execution_count": 3,
   "metadata": {},
   "outputs": [
    {
     "data": {
      "text/plain": [
       "Factuurnr.                            int64\n",
       "Naam                                 object\n",
       "Deb.nr.                               int64\n",
       "Omschrijving factuur                 object\n",
       "Boekstuk                     datetime64[ns]\n",
       "Vervalt                      datetime64[ns]\n",
       "Factuur                             float64\n",
       "Saldo                               float64\n",
       "Factuurreferentie                   float64\n",
       "Aanmaningen                           int64\n",
       "Vervaldagen                           int64\n",
       "Factuur Gbl.                          int64\n",
       "Aut. bet./inc.                        int64\n",
       "IBAN-nr.                            float64\n",
       "Incassomachtiging vereist             int64\n",
       "Dossier                               int64\n",
       "Betaaltermijnen                       int64\n",
       "Betaalwijze                         float64\n",
       "Factuurstatus                        object\n",
       "dtype: object"
      ]
     },
     "execution_count": 3,
     "metadata": {},
     "output_type": "execute_result"
    }
   ],
   "source": [
    "path = './sample_data/sample_input.xlsx'\n",
    "sample_df = pd.read_excel(path)\n",
    "sample_df.dtypes"
   ]
  },
  {
   "cell_type": "code",
   "execution_count": 4,
   "metadata": {},
   "outputs": [],
   "source": [
    "NUM_ROWS = 10\n",
    "\n",
    "def prepare_values(function: Callable, num_prepared: int = NUM_ROWS) -> list:\n",
    "    return [function() for _ in range(num_prepared)]"
   ]
  },
  {
   "cell_type": "code",
   "execution_count": 5,
   "metadata": {},
   "outputs": [],
   "source": [
    "table_dict = {\n",
    "    \"Factuurnr.\": generator.factuurnummer,\n",
    "    \"Naam\": generator.name,\n",
    "    \"Deb.nr.\": generator.debnummer, \n",
    "    'Omschrijving factuur': generator.omschrijving, \n",
    "    'Boekstuk': generator.boekstuk,\n",
    "    'Vervalt': generator.vervalt, \n",
    "    'Factuur': generator.factuur,\n",
    "    'Saldo': generator.factuur, \n",
    "    'Factuurreferentie': generator.debnummer, \n",
    "    'Aanmaningen': generator.debnummer,\n",
    "    'Vervaldagen': generator.debnummer, \n",
    "    'Factuur Gbl.': generator.debnummer, \n",
    "    'Aut. bet./inc.': generator.debnummer, \n",
    "    'IBAN-nr.': generator.iban,\n",
    "    'Incassomachtiging vereist': generator.debnummer, \n",
    "    'Dossier': generator.debnummer, \n",
    "    'Betaaltermijnen': generator.debnummer, \n",
    "    'Betaalwijze': generator.debnummer,  \n",
    "    'Factuurstatus': generator.factuurstatus,\n",
    "}\n",
    "\n",
    "columns = list(table_dict.keys())\n",
    "df = pd.DataFrame(columns=columns)"
   ]
  },
  {
   "cell_type": "code",
   "execution_count": 6,
   "metadata": {},
   "outputs": [],
   "source": [
    "for key, function in table_dict.items():\n",
    "    df[key] = prepare_values(function)"
   ]
  },
  {
   "cell_type": "code",
   "execution_count": 9,
   "metadata": {},
   "outputs": [],
   "source": [
    "gen_path = './generated_data/gen_data_v1.xlsx'\n",
    "df.to_excel(gen_path, engine='openpyxl', index=False)"
   ]
  }
 ],
 "metadata": {
  "kernelspec": {
   "display_name": "env",
   "language": "python",
   "name": "python3"
  },
  "language_info": {
   "codemirror_mode": {
    "name": "ipython",
    "version": 3
   },
   "file_extension": ".py",
   "mimetype": "text/x-python",
   "name": "python",
   "nbconvert_exporter": "python",
   "pygments_lexer": "ipython3",
   "version": "3.11.0"
  }
 },
 "nbformat": 4,
 "nbformat_minor": 2
}
