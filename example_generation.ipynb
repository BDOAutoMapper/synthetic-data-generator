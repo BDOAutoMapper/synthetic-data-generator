{
 "cells": [
  {
   "cell_type": "code",
   "execution_count": 12,
   "metadata": {},
   "outputs": [
    {
     "name": "stdout",
     "output_type": "stream",
     "text": [
      "The autoreload extension is already loaded. To reload it, use:\n",
      "  %reload_ext autoreload\n"
     ]
    }
   ],
   "source": [
    "%load_ext autoreload\n",
    "%autoreload 2"
   ]
  },
  {
   "cell_type": "code",
   "execution_count": 13,
   "metadata": {},
   "outputs": [],
   "source": [
    "import pandas as pd\n",
    "import generator"
   ]
  },
  {
   "cell_type": "code",
   "execution_count": 14,
   "metadata": {},
   "outputs": [],
   "source": [
    "path = './sample_data_1.xlsx'\n",
    "df = pd.read_excel(path, sheet_name=0)"
   ]
  },
  {
   "cell_type": "code",
   "execution_count": 15,
   "metadata": {},
   "outputs": [
    {
     "data": {
      "text/plain": [
       "Factuurnr.                            int64\n",
       "Naam                                 object\n",
       "Deb.nr.                               int64\n",
       "Omschrijving factuur                 object\n",
       "Boekstuk                     datetime64[ns]\n",
       "Vervalt                      datetime64[ns]\n",
       "Factuur                             float64\n",
       "Saldo                               float64\n",
       "Factuurreferentie                   float64\n",
       "Aanmaningen                           int64\n",
       "Vervaldagen                           int64\n",
       "Factuur Gbl.                          int64\n",
       "Aut. bet./inc.                        int64\n",
       "IBAN-nr.                            float64\n",
       "Incassomachtiging vereist             int64\n",
       "Dossier                               int64\n",
       "Betaaltermijnen                       int64\n",
       "Betaalwijze                         float64\n",
       "Factuurstatus                        object\n",
       "dtype: object"
      ]
     },
     "execution_count": 15,
     "metadata": {},
     "output_type": "execute_result"
    }
   ],
   "source": [
    "df.dtypes"
   ]
  },
  {
   "cell_type": "code",
   "execution_count": 17,
   "metadata": {},
   "outputs": [],
   "source": [
    "from typing import Callable\n",
    "\n",
    "\n",
    "NUM_ROWS = 10\n",
    "faker = generator.create_faker()\n",
    "\n",
    "def prepare_values(function: Callable, num_prepared: int = NUM_ROWS):\n",
    "    return [function() for _ in range(num_prepared)]"
   ]
  },
  {
   "cell_type": "code",
   "execution_count": 18,
   "metadata": {},
   "outputs": [],
   "source": [
    "table_dict = {\n",
    "    \"Boekstuk\": generator.boekstuk, \n",
    "    \"Naam\": generator.name, \n",
    "}\n",
    "\n",
    "columns = list(table_dict.keys())\n",
    "df = pd.DataFrame(columns=columns)"
   ]
  },
  {
   "cell_type": "code",
   "execution_count": 19,
   "metadata": {},
   "outputs": [
    {
     "ename": "TypeError",
     "evalue": "boekstuk() takes 0 positional arguments but 1 was given",
     "output_type": "error",
     "traceback": [
      "\u001b[1;31m---------------------------------------------------------------------------\u001b[0m",
      "\u001b[1;31mTypeError\u001b[0m                                 Traceback (most recent call last)",
      "Cell \u001b[1;32mIn[19], line 2\u001b[0m\n\u001b[0;32m      1\u001b[0m \u001b[38;5;28;01mfor\u001b[39;00m key, function \u001b[38;5;129;01min\u001b[39;00m table_dict\u001b[38;5;241m.\u001b[39mitems():\n\u001b[1;32m----> 2\u001b[0m     df[key] \u001b[38;5;241m=\u001b[39m \u001b[43mprepare_values\u001b[49m\u001b[43m(\u001b[49m\u001b[43mfunction\u001b[49m\u001b[43m)\u001b[49m\n",
      "Cell \u001b[1;32mIn[17], line 8\u001b[0m, in \u001b[0;36mprepare_values\u001b[1;34m(function, num_prepared)\u001b[0m\n\u001b[0;32m      7\u001b[0m \u001b[38;5;28;01mdef\u001b[39;00m \u001b[38;5;21mprepare_values\u001b[39m(function: Callable, num_prepared: \u001b[38;5;28mint\u001b[39m \u001b[38;5;241m=\u001b[39m NUM_ROWS):\n\u001b[1;32m----> 8\u001b[0m     \u001b[38;5;28;01mreturn\u001b[39;00m [\u001b[43mfunction\u001b[49m\u001b[43m(\u001b[49m\u001b[43mfaker\u001b[49m\u001b[43m)\u001b[49m \u001b[38;5;28;01mfor\u001b[39;00m _ \u001b[38;5;129;01min\u001b[39;00m \u001b[38;5;28mrange\u001b[39m(num_prepared)]\n",
      "\u001b[1;31mTypeError\u001b[0m: boekstuk() takes 0 positional arguments but 1 was given"
     ]
    }
   ],
   "source": [
    "for key, function in table_dict.items():\n",
    "    df[key] = prepare_values(function)"
   ]
  }
 ],
 "metadata": {
  "kernelspec": {
   "display_name": "env",
   "language": "python",
   "name": "python3"
  },
  "language_info": {
   "codemirror_mode": {
    "name": "ipython",
    "version": 3
   },
   "file_extension": ".py",
   "mimetype": "text/x-python",
   "name": "python",
   "nbconvert_exporter": "python",
   "pygments_lexer": "ipython3",
   "version": "3.12.0"
  }
 },
 "nbformat": 4,
 "nbformat_minor": 2
}
