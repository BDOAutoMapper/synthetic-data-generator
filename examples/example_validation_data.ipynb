{
 "cells": [
  {
   "cell_type": "code",
   "execution_count": 1,
   "metadata": {},
   "outputs": [],
   "source": [
    "%load_ext autoreload\n",
    "%autoreload 2 "
   ]
  },
  {
   "cell_type": "code",
   "execution_count": 2,
   "metadata": {},
   "outputs": [],
   "source": [
    "import pandas as pd\n",
    "from pathlib import Path\n",
    "import os\n",
    "import sys"
   ]
  },
  {
   "cell_type": "code",
   "execution_count": 4,
   "metadata": {},
   "outputs": [],
   "source": [
    "in_path = \"../source_data/Openstaande posten crediteuren 300423 SAP.XLSX\"\n",
    "out_path = \"../validation_data/Openstaande_posten_crediteuren_300423_SAP.xlsx\""
   ]
  },
  {
   "cell_type": "code",
   "execution_count": 5,
   "metadata": {},
   "outputs": [],
   "source": [
    "input_path = Path(in_path)\n",
    "assert input_path.exists()\n",
    "# NB: the read_excel function indirectly requires openpyxl as an Excel engine\n",
    "in_df = pd.read_excel(input_path) "
   ]
  },
  {
   "cell_type": "code",
   "execution_count": 6,
   "metadata": {},
   "outputs": [],
   "source": [
    "assert input_path.exists()\n",
    "in_df = pd.read_excel(input_path) "
   ]
  },
  {
   "cell_type": "code",
   "execution_count": 8,
   "metadata": {},
   "outputs": [],
   "source": [
    "grouper_column = in_df.columns[0]\n",
    "grouper_values = in_df[grouper_column]\n",
    "# Drop the \"grouper_column\" we don't need it anymore.\n",
    "in_df = in_df.drop(columns=[grouper_column])"
   ]
  },
  {
   "cell_type": "code",
   "execution_count": 12,
   "metadata": {},
   "outputs": [],
   "source": [
    "# Vectorize the columns to booleans\n",
    "group_defined_list = list(grouper_values.isna())"
   ]
  },
  {
   "cell_type": "code",
   "execution_count": 13,
   "metadata": {},
   "outputs": [],
   "source": [
    "index_rows_for_group = []\n",
    "keys = []\n",
    "results = {}\n",
    "\n",
    "# For each entry in our boolean array\n",
    "for index, is_group_defined in enumerate(group_defined_list):\n",
    "    if is_group_defined is True:\n",
    "        # Have we identified any keys?\n",
    "        if len(keys) > 0:\n",
    "            results[tuple(keys)] = index_rows_for_group\n",
    "            keys = []\n",
    "            index_rows_for_group = []\n",
    "        index_rows_for_group.append(index)\n",
    "    else:\n",
    "        value = grouper_values[index]\n",
    "        keys.append(value)"
   ]
  },
  {
   "cell_type": "code",
   "execution_count": 22,
   "metadata": {},
   "outputs": [],
   "source": [
    "# Iterate through the results\n",
    "# Building the df again with the subsets\n",
    "subset_dfs = []\n",
    "for value_key, df_indices in results.items():\n",
    "    subset_df = in_df.loc[df_indices].copy()\n",
    "    subset_df[\"group\"] = [value_key] * len(subset_df)\n",
    "    subset_dfs.append(subset_df)\n",
    "sub_df = pd.concat(subset_dfs)"
   ]
  },
  {
   "cell_type": "code",
   "execution_count": 23,
   "metadata": {},
   "outputs": [
    {
     "data": {
      "text/plain": [
       "Index(['Zuordnung', 'Belegnummer', 'Belegart', 'Belegdatum',\n",
       "       'Sonderhauptb.Kennz.', 'Symbol Nettofälligkeit',\n",
       "       'Betrag in Hauswährung', 'Hauswährung', 'Ausgleichsbeleg', 'Text',\n",
       "       'group'],\n",
       "      dtype='object')"
      ]
     },
     "execution_count": 23,
     "metadata": {},
     "output_type": "execute_result"
    }
   ],
   "source": [
    "sub_df.columns"
   ]
  },
  {
   "cell_type": "code",
   "execution_count": 26,
   "metadata": {},
   "outputs": [],
   "source": [
    "columns_to_drop = [\n",
    "    \"Belegart\",\n",
    "    \"Sonderhauptb.Kennz.\",\n",
    "    \"Symbol Nettofälligkeit\",\n",
    "    \"Text\",\n",
    "    \"Hauswährung\",\n",
    "    \"Ausgleichsbeleg\",\n",
    "    \"Zuordnung\",\n",
    "]"
   ]
  },
  {
   "cell_type": "code",
   "execution_count": 27,
   "metadata": {},
   "outputs": [],
   "source": [
    "# Drop irrelevant columns\n",
    "sub_df = sub_df.drop(columns=columns_to_drop)"
   ]
  },
  {
   "cell_type": "code",
   "execution_count": 29,
   "metadata": {},
   "outputs": [],
   "source": [
    "sub_df.to_excel(out_path)"
   ]
  }
 ],
 "metadata": {
  "kernelspec": {
   "display_name": "env",
   "language": "python",
   "name": "python3"
  },
  "language_info": {
   "codemirror_mode": {
    "name": "ipython",
    "version": 3
   },
   "file_extension": ".py",
   "mimetype": "text/x-python",
   "name": "python",
   "nbconvert_exporter": "python",
   "pygments_lexer": "ipython3",
   "version": "3.11.0"
  }
 },
 "nbformat": 4,
 "nbformat_minor": 2
}
